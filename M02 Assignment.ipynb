{
  "metadata": {
    "language_info": {
      "codemirror_mode": {
        "name": "python",
        "version": 3
      },
      "file_extension": ".py",
      "mimetype": "text/x-python",
      "name": "python",
      "nbconvert_exporter": "python",
      "pygments_lexer": "ipython3",
      "version": "3.8"
    },
    "kernelspec": {
      "name": "python",
      "display_name": "Python (Pyodide)",
      "language": "python"
    }
  },
  "nbformat_minor": 4,
  "nbformat": 4,
  "cells": [
    {
      "cell_type": "code",
      "source": "#Question 4.1",
      "metadata": {},
      "execution_count": null,
      "outputs": []
    },
    {
      "cell_type": "code",
      "source": "#Testing \"Too low\" outcome\n\n#assign secret number to variable secret\nsecret = 5\n#assign number to guess variable\nguess = 3\n\n#write all three conditions to produce out come depending on the number entered for \"guess\" variable\nif guess < secret:\n    print (\"Too low\")\nelif guess > secret:\n    print (\"Too high\")\nelse:\n    print (\"Just right\")",
      "metadata": {
        "trusted": true
      },
      "execution_count": 1,
      "outputs": [
        {
          "name": "stdout",
          "text": "Too low\n",
          "output_type": "stream"
        }
      ]
    },
    {
      "cell_type": "code",
      "source": "#Testing \"Too high\" outcome\nsecret = 5\nguess = 7\nif guess < secret:\n    print (\"Too low\")\nelif guess > secret:\n    print (\"Too high\")\nelse:\n    print (\"Just right\")",
      "metadata": {
        "trusted": true
      },
      "execution_count": 3,
      "outputs": [
        {
          "name": "stdout",
          "text": "Too high\n",
          "output_type": "stream"
        }
      ]
    },
    {
      "cell_type": "code",
      "source": "#Testing \"Just right\" outcome\nsecret = 5\nguess = 5\n\nif guess < secret:\n    print (\"Too low\")\nelif guess > secret:\n    print (\"Too high\")\nelse:\n    print (\"Just right\")",
      "metadata": {
        "trusted": true
      },
      "execution_count": 2,
      "outputs": [
        {
          "name": "stdout",
          "text": "Just right\n",
          "output_type": "stream"
        }
      ]
    },
    {
      "cell_type": "code",
      "source": "#Question 4.2",
      "metadata": {},
      "execution_count": null,
      "outputs": []
    },
    {
      "cell_type": "code",
      "source": "#testing for cherry\n\n#assign True or False conditions the variables small and green\nsmall = True\ngreen = False\n\n#write condition statements to produce desired outcome according to small and green assignments\nif small and green:\n    print (\"pea\")\nelif small and not green:\n    print (\"cherry\")\nelif not small and green:\n    print (\"watermelon\")\nelse:\n    print (\"pumpkin\")",
      "metadata": {
        "trusted": true
      },
      "execution_count": 5,
      "outputs": [
        {
          "name": "stdout",
          "text": "cherry\n",
          "output_type": "stream"
        }
      ]
    },
    {
      "cell_type": "code",
      "source": "#testing for pumpkin\nsmall = False\ngreen = False\n\nif small and green:\n    print (\"pea\")\nelif small and not green:\n    print (\"cherry\")\nelif not small and green:\n    print (\"watermelon\")\nelse:\n    print (\"pumpkin\")",
      "metadata": {
        "trusted": true
      },
      "execution_count": 8,
      "outputs": [
        {
          "name": "stdout",
          "text": "pumpkin\n",
          "output_type": "stream"
        }
      ]
    },
    {
      "cell_type": "code",
      "source": "#testing for pea\nsmall = True\ngreen = True\n\nif small and green:\n    print (\"pea\")\nelif small and not green:\n    print (\"cherry\")\nelif not small and green:\n    print (\"watermelon\")\nelse:\n    print (\"pumpkin\")",
      "metadata": {
        "trusted": true
      },
      "execution_count": 7,
      "outputs": [
        {
          "name": "stdout",
          "text": "pea\n",
          "output_type": "stream"
        }
      ]
    },
    {
      "cell_type": "code",
      "source": "#testing for watermelon\nsmall = False\ngreen = True\n\nif small and green:\n    print (\"pea\")\nelif small and not green:\n    print (\"cherry\")\nelif not small and green:\n    print (\"watermelon\")\nelse:\n    print (\"pumpkin\")",
      "metadata": {
        "trusted": true
      },
      "execution_count": 6,
      "outputs": [
        {
          "name": "stdout",
          "text": "watermelon\n",
          "output_type": "stream"
        }
      ]
    },
    {
      "cell_type": "code",
      "source": "#Question 6.1",
      "metadata": {},
      "execution_count": null,
      "outputs": []
    },
    {
      "cell_type": "code",
      "source": "#assign name to list\nvalues = [3, 2, 1, 0]\n\n#for x in values will cycle through and print all values in list\nfor x in values:\n    print(x)",
      "metadata": {
        "trusted": true
      },
      "execution_count": 10,
      "outputs": [
        {
          "name": "stdout",
          "text": "3\n2\n1\n0\n",
          "output_type": "stream"
        }
      ]
    },
    {
      "cell_type": "code",
      "source": "#Question 6.2",
      "metadata": {},
      "execution_count": null,
      "outputs": []
    },
    {
      "cell_type": "code",
      "source": "#Assign values to guess_me and number\nguess_me = 7\nnumber = 1\n\n#While loop sets conditions and compares number to guess_me\nwhile True:\n    if number < guess_me:\n        print (\"too low\")\n    elif number > guess_me:\n        print (\"oops\")\n        break\n    else:\n        print (\"found it!\")\n        break\n    number += 1",
      "metadata": {
        "trusted": true
      },
      "execution_count": 11,
      "outputs": [
        {
          "name": "stdout",
          "text": "too low\ntoo low\ntoo low\ntoo low\ntoo low\ntoo low\nfound it!\n",
          "output_type": "stream"
        }
      ]
    },
    {
      "cell_type": "code",
      "source": "#testing when number starting greater than guess_me\nguess_me = 7\nnumber = 8\n\n#While loop sets conditions and compares number to guess_me\nwhile True:\n    if number < guess_me:\n        print (\"too low\")\n    elif number > guess_me:\n        print (\"oops\")\n        break\n    else:\n        print (\"found it!\")\n        break\n    number += 1",
      "metadata": {
        "trusted": true
      },
      "execution_count": 12,
      "outputs": [
        {
          "name": "stdout",
          "text": "oops\n",
          "output_type": "stream"
        }
      ]
    },
    {
      "cell_type": "code",
      "source": "#testing when number starts equal to guess_me \nguess_me = 7\nnumber = 7\n\n#While loop sets conditions and compares number to guess_me\nwhile True:\n    if number < guess_me:\n        print (\"too low\")\n    elif number > guess_me:\n        print (\"oops\")\n        break\n    else:\n        print (\"found it!\")\n        break\n    number += 1",
      "metadata": {
        "trusted": true
      },
      "execution_count": 13,
      "outputs": [
        {
          "name": "stdout",
          "text": "found it!\n",
          "output_type": "stream"
        }
      ]
    },
    {
      "cell_type": "code",
      "source": "#Question 6.3",
      "metadata": {},
      "execution_count": null,
      "outputs": []
    },
    {
      "cell_type": "code",
      "source": "#assign variable guess_me the value of 5\nguess_me = 5\n\n#for loop cyclers through range 0-10 until it lands on guess_me value\nfor number in range(10):\n    if number < guess_me:\n        print(\"too low\")\n    elif number > guess_me:\n        print (\"oops\")\n        break\n    else:\n        print (\"found it!\")\n        break",
      "metadata": {
        "trusted": true
      },
      "execution_count": 14,
      "outputs": [
        {
          "name": "stdout",
          "text": "too low\ntoo low\ntoo low\ntoo low\ntoo low\nfound it!\n",
          "output_type": "stream"
        }
      ]
    },
    {
      "cell_type": "code",
      "source": "#testing different value for guess_me\nguess_me = 2\n\n#for loop cyclers through range 0-10 until it lands on guess_me value\nfor number in range(10):\n    if number < guess_me:\n        print(\"too low\")\n    elif number > guess_me:\n        print (\"oops\")\n        break\n    else:\n        print (\"found it!\")\n        break",
      "metadata": {
        "trusted": true
      },
      "execution_count": 15,
      "outputs": [
        {
          "name": "stdout",
          "text": "too low\ntoo low\nfound it!\n",
          "output_type": "stream"
        }
      ]
    },
    {
      "cell_type": "code",
      "source": "",
      "metadata": {},
      "execution_count": null,
      "outputs": []
    }
  ]
}